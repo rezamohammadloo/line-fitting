{
  "nbformat": 4,
  "nbformat_minor": 0,
  "metadata": {
    "colab": {
      "provenance": [],
      "authorship_tag": "ABX9TyO2QKRq+hSSPdMu6zq8YXMr",
      "include_colab_link": true
    },
    "kernelspec": {
      "name": "python3",
      "display_name": "Python 3"
    },
    "language_info": {
      "name": "python"
    }
  },
  "cells": [
    {
      "cell_type": "markdown",
      "metadata": {
        "id": "view-in-github",
        "colab_type": "text"
      },
      "source": [
        "<a href=\"https://colab.research.google.com/github/rezamohammadloo/line-fitting/blob/main/line_fitting.ipynb\" target=\"_parent\"><img src=\"https://colab.research.google.com/assets/colab-badge.svg\" alt=\"Open In Colab\"/></a>"
      ]
    },
    {
      "cell_type": "markdown",
      "source": [
        "hello world of deep learning"
      ],
      "metadata": {
        "id": "yHc-QKWtpCPe"
      }
    },
    {
      "cell_type": "code",
      "execution_count": 1,
      "metadata": {
        "id": "cwgvqr93pA6S"
      },
      "outputs": [],
      "source": [
        "import tensorflow as tf\n",
        "import numpy as np\n",
        "from tensorflow import keras\n"
      ]
    },
    {
      "cell_type": "markdown",
      "source": [
        "fiiting a line between to data with the equation of :\n",
        "y=2x-1"
      ],
      "metadata": {
        "id": "xmyishfRpV4O"
      }
    },
    {
      "cell_type": "code",
      "source": [
        "x = np.array([-1, 0, 1, 2, 3, 4], dtype= float)\n",
        "y = np.array([-3, -1, 1, 3, 5, 7], dtype=float)"
      ],
      "metadata": {
        "id": "qReNqjvLpBPk"
      },
      "execution_count": 2,
      "outputs": []
    },
    {
      "cell_type": "markdown",
      "source": [
        "creating our model"
      ],
      "metadata": {
        "id": "Uo-if7hBqBw_"
      }
    },
    {
      "cell_type": "code",
      "source": [
        "model=keras.Sequential([\n",
        "keras.layers.Dense(1, input_shape=[1])\n",
        "])"
      ],
      "metadata": {
        "id": "yoKRuFX2p_By"
      },
      "execution_count": 8,
      "outputs": []
    },
    {
      "cell_type": "markdown",
      "source": [
        "compiling the model"
      ],
      "metadata": {
        "id": "Ta8xBUIaq3o5"
      }
    },
    {
      "cell_type": "code",
      "source": [
        "model.compile(optimizer='sgd', loss='mean_squared_error')"
      ],
      "metadata": {
        "id": "-NUlpNrPqjJj"
      },
      "execution_count": 9,
      "outputs": []
    },
    {
      "cell_type": "markdown",
      "source": [
        "fitting the data"
      ],
      "metadata": {
        "id": "Nx7k-sltrPfr"
      }
    },
    {
      "cell_type": "code",
      "source": [
        "model.fit(x, y, epochs=500)"
      ],
      "metadata": {
        "id": "glBZy_MyrMkL"
      },
      "execution_count": null,
      "outputs": []
    },
    {
      "cell_type": "markdown",
      "source": [
        "making a prediction"
      ],
      "metadata": {
        "id": "9o2ULY3Yrddu"
      }
    },
    {
      "cell_type": "code",
      "source": [
        "print(model.predict([10]))"
      ],
      "metadata": {
        "colab": {
          "base_uri": "https://localhost:8080/"
        },
        "id": "K2g5a_R5rUgB",
        "outputId": "f1d770da-80f4-41b2-c8a4-633e204b775c"
      },
      "execution_count": 12,
      "outputs": [
        {
          "output_type": "stream",
          "name": "stdout",
          "text": [
            "1/1 [==============================] - 0s 34ms/step\n",
            "[[18.981424]]\n"
          ]
        }
      ]
    },
    {
      "cell_type": "code",
      "source": [],
      "metadata": {
        "id": "L0u114xXrhcD"
      },
      "execution_count": null,
      "outputs": []
    }
  ]
}